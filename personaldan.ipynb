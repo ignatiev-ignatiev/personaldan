{
 "cells": [
  {
   "cell_type": "markdown",
   "metadata": {
    "toc": true
   },
   "source": [
    "<h1>Содержание<span class=\"tocSkip\"></span></h1>\n",
    "<div class=\"toc\"><ul class=\"toc-item\"><li><span><a href=\"#Загрузка-данных\" data-toc-modified-id=\"Загрузка-данных-1\"><span class=\"toc-item-num\">1&nbsp;&nbsp;</span>Загрузка данных</a></span></li><li><span><a href=\"#Умножение-матриц\" data-toc-modified-id=\"Умножение-матриц-2\"><span class=\"toc-item-num\">2&nbsp;&nbsp;</span>Умножение матриц</a></span></li><li><span><a href=\"#Алгоритм-преобразования\" data-toc-modified-id=\"Алгоритм-преобразования-3\"><span class=\"toc-item-num\">3&nbsp;&nbsp;</span>Алгоритм преобразования</a></span></li><li><span><a href=\"#Проверка-алгоритма\" data-toc-modified-id=\"Проверка-алгоритма-4\"><span class=\"toc-item-num\">4&nbsp;&nbsp;</span>Проверка алгоритма</a></span></li><li><span><a href=\"#Чек-лист-проверки\" data-toc-modified-id=\"Чек-лист-проверки-5\"><span class=\"toc-item-num\">5&nbsp;&nbsp;</span>Чек-лист проверки</a></span></li></ul></div>"
   ]
  },
  {
   "cell_type": "markdown",
   "metadata": {},
   "source": [
    "# Защита персональных данных клиентов"
   ]
  },
  {
   "cell_type": "markdown",
   "metadata": {},
   "source": [
    "Вам нужно защитить данные клиентов страховой компании «Хоть потоп». Разработайте такой метод преобразования данных, чтобы по ним было сложно восстановить персональную информацию. Обоснуйте корректность его работы.\n",
    "\n",
    "Нужно защитить данные, чтобы при преобразовании качество моделей машинного обучения не ухудшилось. Подбирать наилучшую модель не требуется."
   ]
  },
  {
   "cell_type": "markdown",
   "metadata": {},
   "source": [
    "## Загрузка данных"
   ]
  },
  {
   "cell_type": "code",
   "execution_count": 1,
   "metadata": {},
   "outputs": [],
   "source": [
    "import pandas as pd\n",
    "import numpy as np\n",
    "from sklearn.model_selection import train_test_split\n",
    "from sklearn.preprocessing import StandardScaler\n",
    "from sklearn.linear_model import LinearRegression\n",
    "from sklearn.metrics import r2_score"
   ]
  },
  {
   "cell_type": "code",
   "execution_count": 2,
   "metadata": {},
   "outputs": [],
   "source": [
    "data = pd.read_csv('/datasets/insurance.csv')"
   ]
  },
  {
   "cell_type": "code",
   "execution_count": 3,
   "metadata": {},
   "outputs": [
    {
     "data": {
      "text/html": [
       "<div>\n",
       "<style scoped>\n",
       "    .dataframe tbody tr th:only-of-type {\n",
       "        vertical-align: middle;\n",
       "    }\n",
       "\n",
       "    .dataframe tbody tr th {\n",
       "        vertical-align: top;\n",
       "    }\n",
       "\n",
       "    .dataframe thead th {\n",
       "        text-align: right;\n",
       "    }\n",
       "</style>\n",
       "<table border=\"1\" class=\"dataframe\">\n",
       "  <thead>\n",
       "    <tr style=\"text-align: right;\">\n",
       "      <th></th>\n",
       "      <th>Пол</th>\n",
       "      <th>Возраст</th>\n",
       "      <th>Зарплата</th>\n",
       "      <th>Члены семьи</th>\n",
       "      <th>Страховые выплаты</th>\n",
       "    </tr>\n",
       "  </thead>\n",
       "  <tbody>\n",
       "    <tr>\n",
       "      <th>0</th>\n",
       "      <td>1</td>\n",
       "      <td>41.0</td>\n",
       "      <td>49600.0</td>\n",
       "      <td>1</td>\n",
       "      <td>0</td>\n",
       "    </tr>\n",
       "    <tr>\n",
       "      <th>1</th>\n",
       "      <td>0</td>\n",
       "      <td>46.0</td>\n",
       "      <td>38000.0</td>\n",
       "      <td>1</td>\n",
       "      <td>1</td>\n",
       "    </tr>\n",
       "    <tr>\n",
       "      <th>2</th>\n",
       "      <td>0</td>\n",
       "      <td>29.0</td>\n",
       "      <td>21000.0</td>\n",
       "      <td>0</td>\n",
       "      <td>0</td>\n",
       "    </tr>\n",
       "    <tr>\n",
       "      <th>3</th>\n",
       "      <td>0</td>\n",
       "      <td>21.0</td>\n",
       "      <td>41700.0</td>\n",
       "      <td>2</td>\n",
       "      <td>0</td>\n",
       "    </tr>\n",
       "    <tr>\n",
       "      <th>4</th>\n",
       "      <td>1</td>\n",
       "      <td>28.0</td>\n",
       "      <td>26100.0</td>\n",
       "      <td>0</td>\n",
       "      <td>0</td>\n",
       "    </tr>\n",
       "  </tbody>\n",
       "</table>\n",
       "</div>"
      ],
      "text/plain": [
       "   Пол  Возраст  Зарплата  Члены семьи  Страховые выплаты\n",
       "0    1     41.0   49600.0            1                  0\n",
       "1    0     46.0   38000.0            1                  1\n",
       "2    0     29.0   21000.0            0                  0\n",
       "3    0     21.0   41700.0            2                  0\n",
       "4    1     28.0   26100.0            0                  0"
      ]
     },
     "metadata": {},
     "output_type": "display_data"
    }
   ],
   "source": [
    "display(data.head(5))"
   ]
  },
  {
   "cell_type": "code",
   "execution_count": 4,
   "metadata": {},
   "outputs": [
    {
     "name": "stdout",
     "output_type": "stream",
     "text": [
      "<class 'pandas.core.frame.DataFrame'>\n",
      "RangeIndex: 5000 entries, 0 to 4999\n",
      "Data columns (total 5 columns):\n",
      " #   Column             Non-Null Count  Dtype  \n",
      "---  ------             --------------  -----  \n",
      " 0   Пол                5000 non-null   int64  \n",
      " 1   Возраст            5000 non-null   float64\n",
      " 2   Зарплата           5000 non-null   float64\n",
      " 3   Члены семьи        5000 non-null   int64  \n",
      " 4   Страховые выплаты  5000 non-null   int64  \n",
      "dtypes: float64(2), int64(3)\n",
      "memory usage: 195.4 KB\n"
     ]
    }
   ],
   "source": [
    " data.info()"
   ]
  },
  {
   "cell_type": "code",
   "execution_count": 5,
   "metadata": {},
   "outputs": [
    {
     "data": {
      "text/html": [
       "<div>\n",
       "<style scoped>\n",
       "    .dataframe tbody tr th:only-of-type {\n",
       "        vertical-align: middle;\n",
       "    }\n",
       "\n",
       "    .dataframe tbody tr th {\n",
       "        vertical-align: top;\n",
       "    }\n",
       "\n",
       "    .dataframe thead th {\n",
       "        text-align: right;\n",
       "    }\n",
       "</style>\n",
       "<table border=\"1\" class=\"dataframe\">\n",
       "  <thead>\n",
       "    <tr style=\"text-align: right;\">\n",
       "      <th></th>\n",
       "      <th>Пол</th>\n",
       "      <th>Возраст</th>\n",
       "      <th>Зарплата</th>\n",
       "      <th>Члены семьи</th>\n",
       "      <th>Страховые выплаты</th>\n",
       "    </tr>\n",
       "  </thead>\n",
       "  <tbody>\n",
       "    <tr>\n",
       "      <th>count</th>\n",
       "      <td>5000.000000</td>\n",
       "      <td>5000.000000</td>\n",
       "      <td>5000.000000</td>\n",
       "      <td>5000.000000</td>\n",
       "      <td>5000.000000</td>\n",
       "    </tr>\n",
       "    <tr>\n",
       "      <th>mean</th>\n",
       "      <td>0.499000</td>\n",
       "      <td>30.952800</td>\n",
       "      <td>39916.360000</td>\n",
       "      <td>1.194200</td>\n",
       "      <td>0.148000</td>\n",
       "    </tr>\n",
       "    <tr>\n",
       "      <th>std</th>\n",
       "      <td>0.500049</td>\n",
       "      <td>8.440807</td>\n",
       "      <td>9900.083569</td>\n",
       "      <td>1.091387</td>\n",
       "      <td>0.463183</td>\n",
       "    </tr>\n",
       "    <tr>\n",
       "      <th>min</th>\n",
       "      <td>0.000000</td>\n",
       "      <td>18.000000</td>\n",
       "      <td>5300.000000</td>\n",
       "      <td>0.000000</td>\n",
       "      <td>0.000000</td>\n",
       "    </tr>\n",
       "    <tr>\n",
       "      <th>25%</th>\n",
       "      <td>0.000000</td>\n",
       "      <td>24.000000</td>\n",
       "      <td>33300.000000</td>\n",
       "      <td>0.000000</td>\n",
       "      <td>0.000000</td>\n",
       "    </tr>\n",
       "    <tr>\n",
       "      <th>50%</th>\n",
       "      <td>0.000000</td>\n",
       "      <td>30.000000</td>\n",
       "      <td>40200.000000</td>\n",
       "      <td>1.000000</td>\n",
       "      <td>0.000000</td>\n",
       "    </tr>\n",
       "    <tr>\n",
       "      <th>75%</th>\n",
       "      <td>1.000000</td>\n",
       "      <td>37.000000</td>\n",
       "      <td>46600.000000</td>\n",
       "      <td>2.000000</td>\n",
       "      <td>0.000000</td>\n",
       "    </tr>\n",
       "    <tr>\n",
       "      <th>max</th>\n",
       "      <td>1.000000</td>\n",
       "      <td>65.000000</td>\n",
       "      <td>79000.000000</td>\n",
       "      <td>6.000000</td>\n",
       "      <td>5.000000</td>\n",
       "    </tr>\n",
       "  </tbody>\n",
       "</table>\n",
       "</div>"
      ],
      "text/plain": [
       "               Пол      Возраст      Зарплата  Члены семьи  Страховые выплаты\n",
       "count  5000.000000  5000.000000   5000.000000  5000.000000        5000.000000\n",
       "mean      0.499000    30.952800  39916.360000     1.194200           0.148000\n",
       "std       0.500049     8.440807   9900.083569     1.091387           0.463183\n",
       "min       0.000000    18.000000   5300.000000     0.000000           0.000000\n",
       "25%       0.000000    24.000000  33300.000000     0.000000           0.000000\n",
       "50%       0.000000    30.000000  40200.000000     1.000000           0.000000\n",
       "75%       1.000000    37.000000  46600.000000     2.000000           0.000000\n",
       "max       1.000000    65.000000  79000.000000     6.000000           5.000000"
      ]
     },
     "metadata": {},
     "output_type": "display_data"
    }
   ],
   "source": [
    "display(data.describe())"
   ]
  },
  {
   "cell_type": "code",
   "execution_count": 6,
   "metadata": {},
   "outputs": [
    {
     "data": {
      "text/plain": [
       "Пол                  0\n",
       "Возраст              0\n",
       "Зарплата             0\n",
       "Члены семьи          0\n",
       "Страховые выплаты    0\n",
       "dtype: int64"
      ]
     },
     "metadata": {},
     "output_type": "display_data"
    }
   ],
   "source": [
    "display(data.isna().sum())"
   ]
  },
  {
   "cell_type": "code",
   "execution_count": 7,
   "metadata": {},
   "outputs": [
    {
     "data": {
      "text/plain": [
       "153"
      ]
     },
     "metadata": {},
     "output_type": "display_data"
    }
   ],
   "source": [
    "display(data.duplicated().sum())"
   ]
  },
  {
   "cell_type": "code",
   "execution_count": 8,
   "metadata": {},
   "outputs": [],
   "source": [
    "data['Возраст'] = data['Возраст'].astype('int')\n",
    "data['Зарплата'] = data['Зарплата'].astype('int')"
   ]
  },
  {
   "cell_type": "markdown",
   "metadata": {},
   "source": [
    "**Предварительный вывод**\n",
    "\n",
    "1.Данные уже в обработанном состоянии, дубли решил не удалять, так как здесь этого не требуется.\n",
    "\n",
    "2.Значительных выбросов и аномальных значений не выявлено.\n",
    "\n",
    "3.Заменил только типы данных в столбцах на более подходящие.\n"
   ]
  },
  {
   "cell_type": "markdown",
   "metadata": {},
   "source": [
    "## Умножение матриц"
   ]
  },
  {
   "cell_type": "markdown",
   "metadata": {},
   "source": [
    "\n",
    "\n",
    "Чтобы записать формулу внутри текста, окружите её символами доллара \\\\$; если снаружи —  двойными символами \\\\$\\\\$. Эти формулы записываются на языке вёрстки *LaTeX.* \n",
    "\n",
    "Для примера мы записали формулы линейной регрессии. Можете их скопировать и отредактировать, чтобы решить задачу.\n",
    "\n",
    "Работать в *LaTeX* необязательно."
   ]
  },
  {
   "cell_type": "markdown",
   "metadata": {},
   "source": [
    "Обозначения:\n",
    "\n",
    "- $X$ — матрица признаков (нулевой столбец состоит из единиц)\n",
    "\n",
    "- $y$ — вектор целевого признака\n",
    "\n",
    "- $P$ — матрица, на которую умножаются признаки\n",
    "\n",
    "- $w$ — вектор весов линейной регрессии (нулевой элемент равен сдвигу)"
   ]
  },
  {
   "cell_type": "markdown",
   "metadata": {},
   "source": [
    "Предсказания:\n",
    "\n",
    "$$\n",
    "a = Xw\n",
    "$$\n",
    "\n",
    "Задача обучения:\n",
    "\n",
    "$$\n",
    "w = \\arg\\min_w MSE(Xw, y)\n",
    "$$\n",
    "\n",
    "Формула обучения:\n",
    "\n",
    "$$\n",
    "w = (X^T X)^{-1} X^T y\n",
    "$$\n",
    "\n",
    "Решение:\n",
    "\n",
    "Представим новую матрицу признаков С как произведение старой X на матрицу P(обратимую)\n",
    "\n",
    "$$\n",
    "С = Х * Р\n",
    "$$\n",
    "\n",
    "Подставим новое значение С в формулу w1:\n",
    "\n",
    "$$\n",
    "w1=((XP)^TXP)^{−1}(XP)^Ty\n",
    "$$\n",
    "\n",
    "Раскроем первое произведение данной формулы\n",
    "\n",
    "$$\n",
    "w1=(P^TX^TXP)^{-1}P^TX^Ty\n",
    "$$\n",
    "\n",
    "\n",
    "Перегруппируем множители в скобках\n",
    "\n",
    "$$\n",
    "w1=(P^T(X^TX)P)^{-1}P^TX^Ty\n",
    "$$\n",
    "\n",
    "Расскроем скобки формулы выше\n",
    "\n",
    "$$\n",
    "w1=P^{-1}(X^TX)^{-1}(P^T)^{-1}P^TX^Ty\n",
    "$$\n",
    "\n",
    "Так как P по условию обратимая матрица, то\n",
    "\n",
    "$$\n",
    "(P^T)^{−1}P^T = Е\n",
    "$$\n",
    "$$\n",
    "w1=P^{-1}(X^TX)^{-1}EX^Ty=P^{-1}(X^TX)^{-1}X^Ty\n",
    "$$\n",
    "\n",
    "Видим, что в призведении справа вышла w\n",
    "$$\n",
    "w1=P^{-1}(X^TX)^{-1}X^Ty=P^{-1}w\n",
    "$$\n",
    "\n",
    "\n",
    "Подставим новое значение w1 в формулу для предсказаний линейной регрессии. \n",
    "Подставим в эту формулу значения С и w1 для того, чтобы на их основе вычислить предсказания модели а1\n",
    "\n",
    "$$\n",
    "a1=С w1=XPP^{-1}w\n",
    "$$\n",
    "\n",
    "Так как по условию Р обратимая матрица, \n",
    "то произведение снова равно Е\n",
    "$$\n",
    "PP^{−1} = Е\n",
    "$$\n",
    "$$\n",
    "a1=XPP^{-1}w=XEw=Xw=a\n",
    "$$"
   ]
  },
  {
   "cell_type": "markdown",
   "metadata": {},
   "source": [
    "**Вопрос:** Признаки умножают на обратимую матрицу. Изменится ли качество линейной регрессии? \n",
    "\n",
    "**Ответ:** Не изменится.\n",
    "\n",
    "**Обоснование:** Мы видим, что значение предсказания а не меняется, если умножать матрицу признаков на обратимую матрицу"
   ]
  },
  {
   "cell_type": "markdown",
   "metadata": {},
   "source": [
    "## Алгоритм преобразования"
   ]
  },
  {
   "cell_type": "markdown",
   "metadata": {},
   "source": [
    "**Алгоритм**\n",
    "\n",
    "В качестве алгоритма преобразования примем домножение обучающих признаков X на случайную обратимую матрицу С размером 4х4. Создадим модель линейной регрессии до преобразования и посчитаем метрику R2. Далее умножим исходные признаки на обратимую матрицу и на основе полученных значений вновь посчитаем метрику R2. Метрики R2 по итогу должны быть равны."
   ]
  },
  {
   "cell_type": "markdown",
   "metadata": {},
   "source": [
    "**Обоснование**\n",
    "\n",
    "Как было показано в предыдущем пункте, домножение признаков на какую-либо обратимую матрицу не приводит к изменению предсказаний, поэтому результаты R2 должны оказаться равны"
   ]
  },
  {
   "cell_type": "markdown",
   "metadata": {},
   "source": [
    "## Проверка алгоритма"
   ]
  },
  {
   "cell_type": "code",
   "execution_count": 9,
   "metadata": {},
   "outputs": [],
   "source": [
    "# создаем признаки\n",
    "features = data.drop('Страховые выплаты', axis=1)\n",
    "target = data['Страховые выплаты']"
   ]
  },
  {
   "cell_type": "code",
   "execution_count": 10,
   "metadata": {},
   "outputs": [],
   "source": [
    "features_train, features_test, target_train, target_test = train_test_split(features, target, test_size=0.25, random_state=12345)"
   ]
  },
  {
   "cell_type": "code",
   "execution_count": 11,
   "metadata": {},
   "outputs": [
    {
     "data": {
      "text/plain": [
       "0.4352275684083322"
      ]
     },
     "execution_count": 11,
     "metadata": {},
     "output_type": "execute_result"
    }
   ],
   "source": [
    "# проводим моделирование\n",
    "model = LinearRegression()\n",
    "model.fit(features_train, target_train)\n",
    "predictions = model.predict(features_test)\n",
    "r2 = r2_score(target_test, predictions)\n",
    "r2"
   ]
  },
  {
   "cell_type": "markdown",
   "metadata": {},
   "source": [
    "Теперь необходимо создать обратимую матрицу размером 4 на 4.\n",
    "\n",
    "Для существования обратной матрицы необходимо и достаточно, чтобы матрица была невырожденной, то есть, чтобы ее определитель не был равен нулю."
   ]
  },
  {
   "cell_type": "code",
   "execution_count": 12,
   "metadata": {},
   "outputs": [
    {
     "data": {
      "text/plain": [
       "array([[ 0.66464953,  0.53335959, -0.86407901, -1.00080296],\n",
       "       [ 0.92682684, -1.56104404, -0.83691883,  0.60368973],\n",
       "       [-0.19020697, -0.64611365, -1.62507745,  0.0836816 ],\n",
       "       [ 1.34394496, -0.68189686, -0.05876094,  0.83890357]])"
      ]
     },
     "execution_count": 12,
     "metadata": {},
     "output_type": "execute_result"
    }
   ],
   "source": [
    "a = 0\n",
    "b = 0\n",
    "while a == 0:\n",
    "    b = np.random.normal(size=(4, 4))\n",
    "    a = np.linalg.det(b)\n",
    "b"
   ]
  },
  {
   "cell_type": "markdown",
   "metadata": {},
   "source": [
    "Матрица обратима, умножим признаки "
   ]
  },
  {
   "cell_type": "code",
   "execution_count": 4,
   "metadata": {},
   "outputs": [],
   "source": [
    "# def generate_random_matrix(dim): \n",
    "  #  while True: \n",
    "    #    matrix = np.random.normal(size=(dim, dim)) \n",
    "     #   det = np.linalg.det(matrix) \n",
    "     #   if det != 0: \n",
    "          #  break \n",
    "   # return matrix "
   ]
  },
  {
   "cell_type": "code",
   "execution_count": 13,
   "metadata": {},
   "outputs": [
    {
     "data": {
      "text/html": [
       "<div>\n",
       "<style scoped>\n",
       "    .dataframe tbody tr th:only-of-type {\n",
       "        vertical-align: middle;\n",
       "    }\n",
       "\n",
       "    .dataframe tbody tr th {\n",
       "        vertical-align: top;\n",
       "    }\n",
       "\n",
       "    .dataframe thead th {\n",
       "        text-align: right;\n",
       "    }\n",
       "</style>\n",
       "<table border=\"1\" class=\"dataframe\">\n",
       "  <thead>\n",
       "    <tr style=\"text-align: right;\">\n",
       "      <th></th>\n",
       "      <th>Пол</th>\n",
       "      <th>Возраст</th>\n",
       "      <th>Зарплата</th>\n",
       "      <th>Члены семьи</th>\n",
       "    </tr>\n",
       "  </thead>\n",
       "  <tbody>\n",
       "    <tr>\n",
       "      <th>3369</th>\n",
       "      <td>-6843.630189</td>\n",
       "      <td>-23456.587563</td>\n",
       "      <td>-58864.714134</td>\n",
       "      <td>3055.070537</td>\n",
       "    </tr>\n",
       "    <tr>\n",
       "      <th>1441</th>\n",
       "      <td>-10923.744747</td>\n",
       "      <td>-37268.688381</td>\n",
       "      <td>-93633.780589</td>\n",
       "      <td>4839.584581</td>\n",
       "    </tr>\n",
       "    <tr>\n",
       "      <th>571</th>\n",
       "      <td>-7786.504089</td>\n",
       "      <td>-26605.906324</td>\n",
       "      <td>-66817.523465</td>\n",
       "      <td>3459.470573</td>\n",
       "    </tr>\n",
       "    <tr>\n",
       "      <th>225</th>\n",
       "      <td>-8543.624665</td>\n",
       "      <td>-29196.605100</td>\n",
       "      <td>-73321.180951</td>\n",
       "      <td>3796.611716</td>\n",
       "    </tr>\n",
       "    <tr>\n",
       "      <th>2558</th>\n",
       "      <td>-9591.199539</td>\n",
       "      <td>-32746.228940</td>\n",
       "      <td>-82256.654945</td>\n",
       "      <td>4255.888329</td>\n",
       "    </tr>\n",
       "  </tbody>\n",
       "</table>\n",
       "</div>"
      ],
      "text/plain": [
       "               Пол       Возраст      Зарплата  Члены семьи\n",
       "3369  -6843.630189 -23456.587563 -58864.714134  3055.070537\n",
       "1441 -10923.744747 -37268.688381 -93633.780589  4839.584581\n",
       "571   -7786.504089 -26605.906324 -66817.523465  3459.470573\n",
       "225   -8543.624665 -29196.605100 -73321.180951  3796.611716\n",
       "2558  -9591.199539 -32746.228940 -82256.654945  4255.888329"
      ]
     },
     "execution_count": 13,
     "metadata": {},
     "output_type": "execute_result"
    }
   ],
   "source": [
    "с = features_train.dot(b)\n",
    "с.columns = features_train.columns\n",
    "с.head()"
   ]
  },
  {
   "cell_type": "code",
   "execution_count": 14,
   "metadata": {},
   "outputs": [
    {
     "data": {
      "text/html": [
       "<div>\n",
       "<style scoped>\n",
       "    .dataframe tbody tr th:only-of-type {\n",
       "        vertical-align: middle;\n",
       "    }\n",
       "\n",
       "    .dataframe tbody tr th {\n",
       "        vertical-align: top;\n",
       "    }\n",
       "\n",
       "    .dataframe thead th {\n",
       "        text-align: right;\n",
       "    }\n",
       "</style>\n",
       "<table border=\"1\" class=\"dataframe\">\n",
       "  <thead>\n",
       "    <tr style=\"text-align: right;\">\n",
       "      <th></th>\n",
       "      <th>Пол</th>\n",
       "      <th>Возраст</th>\n",
       "      <th>Зарплата</th>\n",
       "      <th>Члены семьи</th>\n",
       "    </tr>\n",
       "  </thead>\n",
       "  <tbody>\n",
       "    <tr>\n",
       "      <th>3183</th>\n",
       "      <td>-7382.110789</td>\n",
       "      <td>-25252.674393</td>\n",
       "      <td>-63405.874016</td>\n",
       "      <td>3286.859622</td>\n",
       "    </tr>\n",
       "    <tr>\n",
       "      <th>1071</th>\n",
       "      <td>-8148.891203</td>\n",
       "      <td>-27926.914313</td>\n",
       "      <td>-70082.801670</td>\n",
       "      <td>3638.539084</td>\n",
       "    </tr>\n",
       "    <tr>\n",
       "      <th>2640</th>\n",
       "      <td>-7970.902568</td>\n",
       "      <td>-27261.732026</td>\n",
       "      <td>-68449.264668</td>\n",
       "      <td>3545.538291</td>\n",
       "    </tr>\n",
       "    <tr>\n",
       "      <th>2282</th>\n",
       "      <td>-6600.666041</td>\n",
       "      <td>-22515.975903</td>\n",
       "      <td>-56569.433727</td>\n",
       "      <td>2924.193338</td>\n",
       "    </tr>\n",
       "    <tr>\n",
       "      <th>1595</th>\n",
       "      <td>-7564.903145</td>\n",
       "      <td>-25911.276396</td>\n",
       "      <td>-65037.646820</td>\n",
       "      <td>3375.370736</td>\n",
       "    </tr>\n",
       "  </tbody>\n",
       "</table>\n",
       "</div>"
      ],
      "text/plain": [
       "              Пол       Возраст      Зарплата  Члены семьи\n",
       "3183 -7382.110789 -25252.674393 -63405.874016  3286.859622\n",
       "1071 -8148.891203 -27926.914313 -70082.801670  3638.539084\n",
       "2640 -7970.902568 -27261.732026 -68449.264668  3545.538291\n",
       "2282 -6600.666041 -22515.975903 -56569.433727  2924.193338\n",
       "1595 -7564.903145 -25911.276396 -65037.646820  3375.370736"
      ]
     },
     "execution_count": 14,
     "metadata": {},
     "output_type": "execute_result"
    }
   ],
   "source": [
    "test_с = features_test.dot(b)\n",
    "test_с.columns = features_test.columns\n",
    "test_с.head()"
   ]
  },
  {
   "cell_type": "code",
   "execution_count": 15,
   "metadata": {},
   "outputs": [],
   "source": [
    "X = np.concatenate((np.ones((с.shape[0], 1)), с), axis=1)"
   ]
  },
  {
   "cell_type": "code",
   "execution_count": 16,
   "metadata": {},
   "outputs": [],
   "source": [
    "y = target_train\n",
    "w = (np.linalg.inv(X.T.dot(X)).dot(X.T)).dot(y)"
   ]
  },
  {
   "cell_type": "code",
   "execution_count": 17,
   "metadata": {},
   "outputs": [],
   "source": [
    "a = test_с.dot(w[1:]) + w[0]"
   ]
  },
  {
   "cell_type": "code",
   "execution_count": 18,
   "metadata": {},
   "outputs": [
    {
     "data": {
      "text/plain": [
       "0.4352275655767409"
      ]
     },
     "execution_count": 18,
     "metadata": {},
     "output_type": "execute_result"
    }
   ],
   "source": [
    "r2_1=r2_score(target_test, a)\n",
    "r2_1"
   ]
  },
  {
   "cell_type": "code",
   "execution_count": 19,
   "metadata": {},
   "outputs": [
    {
     "name": "stdout",
     "output_type": "stream",
     "text": [
      "0.4352275684083322\n",
      "\n",
      "0.4352275655767409\n"
     ]
    }
   ],
   "source": [
    "print(r2)\n",
    "print()\n",
    "print(r2_1)"
   ]
  },
  {
   "cell_type": "markdown",
   "metadata": {},
   "source": [
    "**Вывод**\n",
    "\n",
    "Мы проверили качества моделей Линейной регрессии с помощью метрики R2 на данных - сначала на исходных, затем умноженных на обратимую матрицу, размер которой равен числу признаков. Показатели метрики совпали. Можно сделать вывод, что алгоритм работает."
   ]
  },
  {
   "cell_type": "markdown",
   "metadata": {},
   "source": [
    "## Чек-лист проверки"
   ]
  },
  {
   "cell_type": "markdown",
   "metadata": {},
   "source": [
    "Поставьте 'x' в выполненных пунктах. Далее нажмите Shift+Enter."
   ]
  },
  {
   "cell_type": "markdown",
   "metadata": {},
   "source": [
    "\n",
    "- [x]  Весь код выполняется без ошибок\n",
    "- [x]  Ячейки с кодом расположены в порядке исполнения\n",
    "- [x]  Выполнен шаг 1: данные загружены\n",
    "- [x]   Выполнен шаг 2: получен ответ на вопрос об умножении матриц\n",
    "    - [x]  Указан правильный вариант ответа\n",
    "    - [x]  Вариант обоснован\n",
    "- [x]  Выполнен шаг 3: предложен алгоритм преобразования\n",
    "    - [x]  Алгоритм описан\n",
    "    - [x]  Алгоритм обоснован\n",
    "- [x]  Выполнен шаг 4: алгоритм проверен\n",
    "    - [x]  Алгоритм реализован\n",
    "    - [x]  Проведено сравнение качества моделей до и после преобразования"
   ]
  },
  {
   "cell_type": "code",
   "execution_count": null,
   "metadata": {},
   "outputs": [],
   "source": []
  }
 ],
 "metadata": {
  "ExecuteTimeLog": [
   {
    "duration": 1522,
    "start_time": "2023-07-19T19:17:09.449Z"
   },
   {
    "duration": 80,
    "start_time": "2023-07-19T19:17:32.572Z"
   },
   {
    "duration": 5,
    "start_time": "2023-07-19T19:30:44.455Z"
   },
   {
    "duration": 19,
    "start_time": "2023-07-19T19:31:48.898Z"
   },
   {
    "duration": 14,
    "start_time": "2023-07-19T19:31:50.993Z"
   },
   {
    "duration": 23,
    "start_time": "2023-07-19T19:31:53.624Z"
   },
   {
    "duration": 1243,
    "start_time": "2023-07-22T15:32:12.257Z"
   },
   {
    "duration": 86,
    "start_time": "2023-07-22T15:32:13.502Z"
   },
   {
    "duration": 17,
    "start_time": "2023-07-22T15:32:13.590Z"
   },
   {
    "duration": 12,
    "start_time": "2023-07-22T15:32:13.609Z"
   },
   {
    "duration": 33,
    "start_time": "2023-07-22T15:32:13.623Z"
   },
   {
    "duration": 7,
    "start_time": "2023-07-22T15:41:03.001Z"
   },
   {
    "duration": 114,
    "start_time": "2023-07-22T15:41:42.029Z"
   },
   {
    "duration": 4,
    "start_time": "2023-07-22T15:41:50.597Z"
   },
   {
    "duration": 6,
    "start_time": "2023-07-22T15:43:17.125Z"
   },
   {
    "duration": 5,
    "start_time": "2023-07-22T17:36:22.560Z"
   },
   {
    "duration": 8,
    "start_time": "2023-07-22T17:37:59.781Z"
   },
   {
    "duration": 14,
    "start_time": "2023-07-22T17:38:15.337Z"
   },
   {
    "duration": 5,
    "start_time": "2023-07-22T17:40:43.603Z"
   },
   {
    "duration": 10,
    "start_time": "2023-07-22T17:42:04.491Z"
   },
   {
    "duration": 17,
    "start_time": "2023-07-22T17:42:49.545Z"
   },
   {
    "duration": 4,
    "start_time": "2023-07-22T17:47:57.382Z"
   },
   {
    "duration": 14,
    "start_time": "2023-07-22T17:48:20.667Z"
   },
   {
    "duration": 7,
    "start_time": "2023-07-22T17:48:42.225Z"
   },
   {
    "duration": 5,
    "start_time": "2023-07-22T17:54:28.876Z"
   },
   {
    "duration": 7,
    "start_time": "2023-07-22T17:57:23.041Z"
   },
   {
    "duration": 10,
    "start_time": "2023-07-22T17:59:01.891Z"
   },
   {
    "duration": 11,
    "start_time": "2023-07-22T17:59:09.009Z"
   },
   {
    "duration": 9,
    "start_time": "2023-07-22T18:00:53.564Z"
   },
   {
    "duration": 5,
    "start_time": "2023-07-22T18:01:00.597Z"
   },
   {
    "duration": 10,
    "start_time": "2023-07-22T18:01:15.833Z"
   },
   {
    "duration": 9,
    "start_time": "2023-07-22T18:02:52.173Z"
   },
   {
    "duration": 15,
    "start_time": "2023-07-22T18:03:51.633Z"
   },
   {
    "duration": 68,
    "start_time": "2023-07-22T18:05:05.993Z"
   },
   {
    "duration": 11,
    "start_time": "2023-07-22T18:05:16.759Z"
   },
   {
    "duration": 4,
    "start_time": "2023-07-22T18:07:21.033Z"
   },
   {
    "duration": 17,
    "start_time": "2023-07-22T18:07:31.435Z"
   },
   {
    "duration": 7,
    "start_time": "2023-07-22T18:07:34.318Z"
   },
   {
    "duration": 15,
    "start_time": "2023-07-22T18:12:47.608Z"
   },
   {
    "duration": 12,
    "start_time": "2023-07-22T18:14:16.625Z"
   },
   {
    "duration": 11,
    "start_time": "2023-07-22T18:14:32.495Z"
   },
   {
    "duration": 4,
    "start_time": "2023-07-22T18:14:36.908Z"
   },
   {
    "duration": 17,
    "start_time": "2023-07-22T18:14:41.115Z"
   },
   {
    "duration": 6,
    "start_time": "2023-07-22T18:14:44.675Z"
   },
   {
    "duration": 10,
    "start_time": "2023-07-22T18:21:42.482Z"
   },
   {
    "duration": 9,
    "start_time": "2023-07-22T18:22:27.444Z"
   },
   {
    "duration": 10,
    "start_time": "2023-07-22T18:22:57.252Z"
   },
   {
    "duration": 11,
    "start_time": "2023-07-22T18:23:39.238Z"
   },
   {
    "duration": 3,
    "start_time": "2023-07-22T18:23:53.132Z"
   },
   {
    "duration": 4,
    "start_time": "2023-07-22T18:24:52.759Z"
   },
   {
    "duration": 4,
    "start_time": "2023-07-22T18:25:01.997Z"
   },
   {
    "duration": 5,
    "start_time": "2023-07-22T18:25:41.998Z"
   },
   {
    "duration": 4,
    "start_time": "2023-07-22T18:26:01.188Z"
   },
   {
    "duration": 11,
    "start_time": "2023-07-22T18:27:31.643Z"
   },
   {
    "duration": 10,
    "start_time": "2023-07-22T18:27:45.019Z"
   },
   {
    "duration": 3,
    "start_time": "2023-07-22T18:27:57.066Z"
   },
   {
    "duration": 5,
    "start_time": "2023-07-22T18:27:59.702Z"
   },
   {
    "duration": 4,
    "start_time": "2023-07-22T18:28:04.200Z"
   },
   {
    "duration": 6,
    "start_time": "2023-07-22T18:28:09.115Z"
   },
   {
    "duration": 5,
    "start_time": "2023-07-22T18:28:42.822Z"
   },
   {
    "duration": 6,
    "start_time": "2023-07-22T18:29:19.651Z"
   },
   {
    "duration": 6,
    "start_time": "2023-07-22T18:29:39.628Z"
   },
   {
    "duration": 4,
    "start_time": "2023-07-22T18:30:42.476Z"
   },
   {
    "duration": 5,
    "start_time": "2023-07-22T18:30:45.589Z"
   },
   {
    "duration": 6,
    "start_time": "2023-07-22T18:30:50.365Z"
   },
   {
    "duration": 3,
    "start_time": "2023-07-22T18:30:53.358Z"
   },
   {
    "duration": 5,
    "start_time": "2023-07-22T18:31:20.033Z"
   },
   {
    "duration": 70,
    "start_time": "2023-07-22T18:31:51.678Z"
   },
   {
    "duration": 70,
    "start_time": "2023-07-22T18:32:06.156Z"
   },
   {
    "duration": 67,
    "start_time": "2023-07-22T18:32:14.219Z"
   },
   {
    "duration": 4,
    "start_time": "2023-07-22T18:32:23.006Z"
   },
   {
    "duration": 4,
    "start_time": "2023-07-22T18:32:49.477Z"
   },
   {
    "duration": 1147,
    "start_time": "2023-07-22T18:33:00.961Z"
   },
   {
    "duration": 30,
    "start_time": "2023-07-22T18:33:02.110Z"
   },
   {
    "duration": 41,
    "start_time": "2023-07-22T18:33:02.142Z"
   },
   {
    "duration": 91,
    "start_time": "2023-07-22T18:33:02.186Z"
   },
   {
    "duration": 88,
    "start_time": "2023-07-22T18:33:02.282Z"
   },
   {
    "duration": 20,
    "start_time": "2023-07-22T18:33:02.372Z"
   },
   {
    "duration": 77,
    "start_time": "2023-07-22T18:33:02.394Z"
   },
   {
    "duration": 25,
    "start_time": "2023-07-22T18:33:02.473Z"
   },
   {
    "duration": 37,
    "start_time": "2023-07-22T18:33:02.500Z"
   },
   {
    "duration": 26,
    "start_time": "2023-07-22T18:33:02.539Z"
   },
   {
    "duration": 37,
    "start_time": "2023-07-22T18:33:02.566Z"
   },
   {
    "duration": 20,
    "start_time": "2023-07-22T18:33:02.605Z"
   },
   {
    "duration": 24,
    "start_time": "2023-07-22T18:33:02.627Z"
   },
   {
    "duration": 31,
    "start_time": "2023-07-22T18:33:02.654Z"
   },
   {
    "duration": 17,
    "start_time": "2023-07-22T18:33:02.687Z"
   },
   {
    "duration": 28,
    "start_time": "2023-07-22T18:33:02.706Z"
   },
   {
    "duration": 25,
    "start_time": "2023-07-22T18:33:02.736Z"
   },
   {
    "duration": 107,
    "start_time": "2023-07-22T18:33:02.763Z"
   },
   {
    "duration": 8,
    "start_time": "2023-07-22T18:33:02.872Z"
   },
   {
    "duration": 11,
    "start_time": "2023-07-22T18:33:02.881Z"
   },
   {
    "duration": 4,
    "start_time": "2023-07-22T18:36:07.600Z"
   },
   {
    "duration": 4,
    "start_time": "2023-07-22T18:36:24.956Z"
   },
   {
    "duration": 4,
    "start_time": "2023-07-22T18:36:28.440Z"
   },
   {
    "duration": 4,
    "start_time": "2023-07-22T18:36:38.624Z"
   },
   {
    "duration": 5,
    "start_time": "2023-07-22T18:40:48.936Z"
   },
   {
    "duration": 11,
    "start_time": "2023-07-22T18:41:52.136Z"
   },
   {
    "duration": 4,
    "start_time": "2023-07-22T18:42:04.816Z"
   },
   {
    "duration": 1126,
    "start_time": "2023-07-22T18:47:02.400Z"
   },
   {
    "duration": 28,
    "start_time": "2023-07-22T18:47:03.528Z"
   },
   {
    "duration": 17,
    "start_time": "2023-07-22T18:47:03.558Z"
   },
   {
    "duration": 11,
    "start_time": "2023-07-22T18:47:03.576Z"
   },
   {
    "duration": 32,
    "start_time": "2023-07-22T18:47:03.589Z"
   },
   {
    "duration": 12,
    "start_time": "2023-07-22T18:47:03.623Z"
   },
   {
    "duration": 23,
    "start_time": "2023-07-22T18:47:03.637Z"
   },
   {
    "duration": 5,
    "start_time": "2023-07-22T18:47:03.662Z"
   },
   {
    "duration": 24,
    "start_time": "2023-07-22T18:47:03.668Z"
   },
   {
    "duration": 17,
    "start_time": "2023-07-22T18:47:03.694Z"
   },
   {
    "duration": 10,
    "start_time": "2023-07-22T18:47:03.713Z"
   },
   {
    "duration": 6,
    "start_time": "2023-07-22T18:47:03.725Z"
   },
   {
    "duration": 19,
    "start_time": "2023-07-22T18:47:03.732Z"
   },
   {
    "duration": 28,
    "start_time": "2023-07-22T18:47:03.754Z"
   },
   {
    "duration": 26,
    "start_time": "2023-07-22T18:47:03.784Z"
   },
   {
    "duration": 25,
    "start_time": "2023-07-22T18:47:03.812Z"
   },
   {
    "duration": 24,
    "start_time": "2023-07-22T18:47:03.839Z"
   },
   {
    "duration": 99,
    "start_time": "2023-07-22T18:47:03.865Z"
   },
   {
    "duration": 6,
    "start_time": "2023-07-22T18:47:03.965Z"
   },
   {
    "duration": 3,
    "start_time": "2023-07-22T18:50:15.667Z"
   },
   {
    "duration": 2767,
    "start_time": "2023-07-22T19:07:05.360Z"
   },
   {
    "duration": 29,
    "start_time": "2023-07-22T19:07:08.129Z"
   },
   {
    "duration": 21,
    "start_time": "2023-07-22T19:07:08.160Z"
   },
   {
    "duration": 13,
    "start_time": "2023-07-22T19:07:08.183Z"
   },
   {
    "duration": 38,
    "start_time": "2023-07-22T19:07:08.198Z"
   },
   {
    "duration": 6,
    "start_time": "2023-07-22T19:07:08.238Z"
   },
   {
    "duration": 8,
    "start_time": "2023-07-22T19:07:08.246Z"
   },
   {
    "duration": 7,
    "start_time": "2023-07-22T19:07:08.255Z"
   },
   {
    "duration": 5,
    "start_time": "2023-07-22T19:07:08.263Z"
   },
   {
    "duration": 44,
    "start_time": "2023-07-22T19:07:08.270Z"
   },
   {
    "duration": 30,
    "start_time": "2023-07-22T19:07:08.315Z"
   },
   {
    "duration": 5,
    "start_time": "2023-07-22T19:07:08.347Z"
   },
   {
    "duration": 11,
    "start_time": "2023-07-22T19:07:08.354Z"
   },
   {
    "duration": 11,
    "start_time": "2023-07-22T19:07:08.367Z"
   },
   {
    "duration": 4,
    "start_time": "2023-07-22T19:07:08.380Z"
   },
   {
    "duration": 29,
    "start_time": "2023-07-22T19:07:08.386Z"
   },
   {
    "duration": 7,
    "start_time": "2023-07-22T19:07:08.416Z"
   },
   {
    "duration": 92,
    "start_time": "2023-07-22T19:07:08.424Z"
   },
   {
    "duration": 10,
    "start_time": "2023-07-22T19:07:08.518Z"
   },
   {
    "duration": 142,
    "start_time": "2023-07-24T19:17:22.171Z"
   },
   {
    "duration": 175,
    "start_time": "2023-07-24T19:49:11.629Z"
   },
   {
    "duration": 2,
    "start_time": "2023-07-24T19:50:37.622Z"
   },
   {
    "duration": 3,
    "start_time": "2023-07-24T19:55:33.047Z"
   }
  ],
  "kernelspec": {
   "display_name": "Python 3 (ipykernel)",
   "language": "python",
   "name": "python3"
  },
  "language_info": {
   "codemirror_mode": {
    "name": "ipython",
    "version": 3
   },
   "file_extension": ".py",
   "mimetype": "text/x-python",
   "name": "python",
   "nbconvert_exporter": "python",
   "pygments_lexer": "ipython3",
   "version": "3.9.5"
  },
  "toc": {
   "base_numbering": 1,
   "nav_menu": {},
   "number_sections": true,
   "sideBar": true,
   "skip_h1_title": true,
   "title_cell": "Содержание",
   "title_sidebar": "Contents",
   "toc_cell": true,
   "toc_position": {},
   "toc_section_display": true,
   "toc_window_display": false
  }
 },
 "nbformat": 4,
 "nbformat_minor": 2
}
